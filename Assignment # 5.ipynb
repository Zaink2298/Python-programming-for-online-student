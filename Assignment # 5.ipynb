{
 "cells": [
  {
   "cell_type": "code",
   "execution_count": 4,
   "metadata": {},
   "outputs": [
    {
     "name": "stdout",
     "output_type": "stream",
     "text": [
      "Enter Number to calculate it's factorial: 5\n",
      "120\n"
     ]
    }
   ],
   "source": [
    "# Question:1\n",
    "# Write a Python function to calculate the factorial of a number (a non-negative\n",
    "# integer). The function accepts the number as an argument.\n",
    "\n",
    "def isPositiveInteger(number):\n",
    "    if int(number) > 0 :\n",
    "        return True\n",
    "    else:\n",
    "        return False\n",
    "def calcFactorial(number):\n",
    "    factorial = 1\n",
    "    if isPositiveInteger(number) == True:\n",
    "        number = int(number)\n",
    "        for i in range(1, number + 1):\n",
    "            factorial = factorial * i\n",
    "        print(factorial)\n",
    "    else:\n",
    "        print(\"Invalid input\")\n",
    "\n",
    "factCalc = input(\"Enter Number to calculate it's factorial: \")\n",
    "calcFactorial(factCalc)"
   ]
  },
  {
   "cell_type": "code",
   "execution_count": 5,
   "metadata": {},
   "outputs": [
    {
     "name": "stdout",
     "output_type": "stream",
     "text": [
      "Original String :  The quick Brown Fox\n",
      "No. of Upper case characters :  3\n",
      "No. of Lower case Characters :  13\n"
     ]
    }
   ],
   "source": [
    "# 2. Python function that accepts a string and calculate the number of upper case letters and lower case letters\n",
    "def string_test(s):\n",
    "    d={\"UPPER_CASE\":0, \"LOWER_CASE\":0}\n",
    "    for c in s:\n",
    "        if c.isupper():\n",
    "           d[\"UPPER_CASE\"]+=1\n",
    "        elif c.islower():\n",
    "           d[\"LOWER_CASE\"]+=1\n",
    "        else:\n",
    "           pass\n",
    "    print (\"Original String : \", s)\n",
    "    print (\"No. of Upper case characters : \", d[\"UPPER_CASE\"])\n",
    "    print (\"No. of Lower case Characters : \", d[\"LOWER_CASE\"])\n",
    "\n",
    "string_test('The quick Brown Fox')"
   ]
  },
  {
   "cell_type": "code",
   "execution_count": 6,
   "metadata": {},
   "outputs": [
    {
     "name": "stdout",
     "output_type": "stream",
     "text": [
      "2\n",
      "54\n",
      "78\n",
      "56\n",
      "24\n"
     ]
    }
   ],
   "source": [
    "# Question:3\n",
    "# Write a Python function to print the even numbers from a given list.\n",
    "\n",
    "randomList = [2, 3, 23, 54, 45, 23, 78, 56, 99, 24]\n",
    "for element in randomList:\n",
    "    if element % 2 == 0:\n",
    "        print(element)"
   ]
  },
  {
   "cell_type": "code",
   "execution_count": 7,
   "metadata": {},
   "outputs": [
    {
     "name": "stdout",
     "output_type": "stream",
     "text": [
      "Enter any word: madam\n",
      "madam is a Palindrom\n"
     ]
    }
   ],
   "source": [
    "# Question:4\n",
    "# Write a Python function that checks whether a passed string is palindrome or not.\n",
    "# Note: A palindrome is a word, phrase, or sequence that reads the same\n",
    "# backward as forward, e.g., madam\n",
    "\n",
    "def isPalindrom(palWord):\n",
    "     firstHalf = []\n",
    "     secondHalf = []\n",
    "     if len(palWord) % 2 == 1:\n",
    "         oddList = (len(palWord) // 2)\n",
    "         for element in range(oddList):\n",
    "             firstHalf.append(palWord[element])\n",
    "         for element in range(-1, -(len(palWord)-oddList), -1):\n",
    "             secondHalf.append(palWord[element])\n",
    "     else:\n",
    "         print(\"Not palindrom Word\")\n",
    "     palindrom = False\n",
    "     for element in range(len(firstHalf)):\n",
    "         if firstHalf[element] == secondHalf[element]:\n",
    "             palindrom = True\n",
    "     if palindrom == True:\n",
    "         print(\"{} is a Palindrom\".format(palWord))\n",
    "     else:\n",
    "         print(\"Not a palindrom\")\n",
    "palWord = input('Enter any word: ')\n",
    "isPalindrom(palWord)"
   ]
  },
  {
   "cell_type": "code",
   "execution_count": 8,
   "metadata": {},
   "outputs": [
    {
     "name": "stdout",
     "output_type": "stream",
     "text": [
      "Enter any number: 45\n",
      "Not a prime Number\n",
      "3 times 15 is a 45.\n"
     ]
    }
   ],
   "source": [
    "# Question:5\n",
    "# Write a Python function that takes a number as a parameter and check the\n",
    "# number is prime or not.\n",
    "\n",
    "\n",
    "def isPositiveInteger(number):\n",
    "     try:\n",
    "         number = int(number)\n",
    "         return True\n",
    "     except:\n",
    "         return False\n",
    "\n",
    "def checkPrime(number):\n",
    "     isPrime = isPositiveInteger(number)\n",
    "     if isPrime:\n",
    "         number = int(number)\n",
    "         for i in range(2, number):\n",
    "             if (number % i == 0):\n",
    "                 print(\"Not a prime Number\")\n",
    "                 print(\"{} times {} is a {}.\".format(i, number // i, number))\n",
    "                 break\n",
    "         else:\n",
    "             print(\"{} is a prime number.\".format(number))\n",
    "     else:\n",
    "         print(\"Enter positive integers only\")\n",
    "number = input(\"Enter any number: \")\n",
    "checkPrime(number)"
   ]
  },
  {
   "cell_type": "code",
   "execution_count": 9,
   "metadata": {},
   "outputs": [
    {
     "name": "stdout",
     "output_type": "stream",
     "text": [
      "Bread\n",
      "Butter\n",
      "Honey\n",
      "Juice\n"
     ]
    }
   ],
   "source": [
    "# 6. Write a function which accepts the multiple arguments of user shopping list and print \n",
    "# all the items which user bought from market.\n",
    "\n",
    "\n",
    "\n",
    "def groceryL(*itemss):  \n",
    "    for items in itemss:  \n",
    "        print (items) \n",
    "\n",
    "        \n",
    "groceryL('Bread', 'Butter', 'Honey', 'Juice')"
   ]
  },
  {
   "cell_type": "code",
   "execution_count": null,
   "metadata": {},
   "outputs": [],
   "source": []
  }
 ],
 "metadata": {
  "kernelspec": {
   "display_name": "Python 3",
   "language": "python",
   "name": "python3"
  },
  "language_info": {
   "codemirror_mode": {
    "name": "ipython",
    "version": 3
   },
   "file_extension": ".py",
   "mimetype": "text/x-python",
   "name": "python",
   "nbconvert_exporter": "python",
   "pygments_lexer": "ipython3",
   "version": "3.7.4"
  }
 },
 "nbformat": 4,
 "nbformat_minor": 2
}
